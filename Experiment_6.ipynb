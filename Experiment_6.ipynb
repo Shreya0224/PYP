{
  "nbformat": 4,
  "nbformat_minor": 0,
  "metadata": {
    "colab": {
      "provenance": []
    },
    "kernelspec": {
      "name": "python3",
      "display_name": "Python 3"
    },
    "language_info": {
      "name": "python"
    }
  },
  "cells": [
    {
      "cell_type": "markdown",
      "source": [
        "## **Sudan** **Tiwari**\n"
      ],
      "metadata": {
        "id": "EoBphW2jjiaT"
      }
    },
    {
      "cell_type": "markdown",
      "source": [
        "##**Roll** No:**76**"
      ],
      "metadata": {
        "id": "Um7O5JOZj5Rz"
      }
    },
    {
      "cell_type": "markdown",
      "source": [
        "## Experiment 6##"
      ],
      "metadata": {
        "id": "3KF15K3vp14q"
      }
    },
    {
      "cell_type": "markdown",
      "source": [
        "**Importing**\n"
      ],
      "metadata": {
        "id": "IGXcExH5kAYr"
      }
    },
    {
      "cell_type": "code",
      "source": [
        "import sqlite3"
      ],
      "metadata": {
        "id": "5cCMd-2jkZfL"
      },
      "execution_count": null,
      "outputs": []
    },
    {
      "cell_type": "markdown",
      "source": [
        "###**Connecting to database**"
      ],
      "metadata": {
        "id": "6o1ajTh9kjVb"
      }
    },
    {
      "cell_type": "code",
      "source": [
        "connection = sqlite3.connect ('./genericDatabase.db')\n",
        "cursor = connection.cursor ()"
      ],
      "metadata": {
        "id": "bxSfIpeokoTT"
      },
      "execution_count": null,
      "outputs": []
    },
    {
      "cell_type": "markdown",
      "source": [
        "**Create Table**"
      ],
      "metadata": {
        "id": "kgfjlWHDlKxL"
      }
    },
    {
      "cell_type": "code",
      "source": [
        "cursor.execute('''\n",
        "    CREATE TABLE IF NOT EXISTS students (\n",
        "        id INTEGER PRIMARY KEY AUTOINCREMENT,\n",
        "        name TEXT NOT NULL,\n",
        "        age INTEGER NOT NULL\n",
        "    )\n",
        "''')\n",
        "\n",
        "connection.commit()"
      ],
      "metadata": {
        "id": "tsHhJDa8lRh7"
      },
      "execution_count": null,
      "outputs": []
    },
    {
      "cell_type": "markdown",
      "source": [
        "##CRUD Operations"
      ],
      "metadata": {
        "id": "LspG61VdlYRj"
      }
    },
    {
      "cell_type": "markdown",
      "source": [
        "**Create (Insertion)**"
      ],
      "metadata": {
        "id": "9ESJSM6DmDVV"
      }
    },
    {
      "cell_type": "code",
      "source": [
        "def create_student(name, age):\n",
        "    cursor.execute('''\n",
        "        INSERT INTO students (name, age)\n",
        "        VALUES (?, ?)\n",
        "    ''', (name, age))\n",
        "    connection.commit()\n",
        "    print(\"Record added successfully!\")\n",
        "\n",
        "create_student(\"Sudan\", 23)\n",
        "create_student(\"Shreya\", 18)\n",
        "create_student(\"Tejashree\", 19)\n",
        "create_student(\"Pranita\", 19)"
      ],
      "metadata": {
        "colab": {
          "base_uri": "https://localhost:8080/"
        },
        "id": "17SK1vy-mGiT",
        "outputId": "de669cc7-58cf-4a12-b794-455dbdbd61c8"
      },
      "execution_count": null,
      "outputs": [
        {
          "output_type": "stream",
          "name": "stdout",
          "text": [
            "Record added successfully!\n",
            "Record added successfully!\n",
            "Record added successfully!\n",
            "Record added successfully!\n"
          ]
        }
      ]
    },
    {
      "cell_type": "markdown",
      "source": [
        "**Read (Retrieve)**"
      ],
      "metadata": {
        "id": "C8R5XoxYmYoT"
      }
    },
    {
      "cell_type": "code",
      "source": [
        "def read_students():\n",
        "    cursor.execute('SELECT * FROM students')\n",
        "    rows = cursor.fetchall()\n",
        "    print(\"Student Records:\")\n",
        "    for row in rows:\n",
        "        print(row)\n",
        "\n",
        "read_students()"
      ],
      "metadata": {
        "colab": {
          "base_uri": "https://localhost:8080/"
        },
        "id": "Qeq-B2Irma0T",
        "outputId": "135a26ae-803a-4b78-9745-2b8d606d07dc"
      },
      "execution_count": null,
      "outputs": [
        {
          "output_type": "stream",
          "name": "stdout",
          "text": [
            "Student Records:\n",
            "(1, 'Sudan', 23)\n",
            "(2, 'Shreya', 18)\n",
            "(3, 'Sudan', 23)\n",
            "(4, 'Shreya', 18)\n",
            "(5, 'Tejashree', 19)\n",
            "(6, 'Pranita', 19)\n"
          ]
        }
      ]
    },
    {
      "cell_type": "markdown",
      "source": [
        "**Update**"
      ],
      "metadata": {
        "id": "PMGKjmW5m_1Q"
      }
    },
    {
      "cell_type": "code",
      "source": [
        "def update_student_age(student_id, new_age):\n",
        "    cursor.execute('''\n",
        "     UPDATE Students\n",
        "     SET age =?\n",
        "     WHERE id=?\n",
        "\n",
        "\n",
        "    ''', (new_age, student_id))\n",
        "    connection.commit()\n",
        "    print(\"Student age updated successfully!\")\n",
        "\n",
        "update_student_age(1, 21)  # Updating Alice's age to 21\n",
        "read_students()"
      ],
      "metadata": {
        "colab": {
          "base_uri": "https://localhost:8080/"
        },
        "id": "SUlKdqylnH0r",
        "outputId": "0aa17b6e-8e39-4b6f-d0a4-5c4aaaebc624"
      },
      "execution_count": null,
      "outputs": [
        {
          "output_type": "stream",
          "name": "stdout",
          "text": [
            "Student age updated successfully!\n",
            "Student Records:\n",
            "(1, 'Sudan', 21)\n",
            "(2, 'Shreya', 18)\n",
            "(3, 'Sudan', 23)\n",
            "(4, 'Shreya', 18)\n",
            "(5, 'Tejashree', 19)\n",
            "(6, 'Pranita', 19)\n"
          ]
        }
      ]
    },
    {
      "cell_type": "markdown",
      "source": [
        "**Delete**"
      ],
      "metadata": {
        "id": "krCSuIDaoW_T"
      }
    },
    {
      "cell_type": "code",
      "source": [
        "def delete_student(student_id):\n",
        "    cursor.execute('''\n",
        "    DELETE FROM Students\n",
        "\n",
        "    WHERE id= ?\n",
        "\n",
        "\n",
        "    ''', (student_id,))\n",
        "    connection.commit()\n",
        "    print(\"Student deleted successfully!\")\n",
        "\n",
        "delete_student(2)  # Deleting Bob's record\n",
        "read_students()"
      ],
      "metadata": {
        "colab": {
          "base_uri": "https://localhost:8080/"
        },
        "id": "98o1i9JpoZta",
        "outputId": "12e6b2d4-a130-47db-9d5d-7ec8f29923e1"
      },
      "execution_count": null,
      "outputs": [
        {
          "output_type": "stream",
          "name": "stdout",
          "text": [
            "Student deleted successfully!\n",
            "Student Records:\n",
            "(1, 'Sudan', 21)\n",
            "(3, 'Sudan', 23)\n",
            "(4, 'Shreya', 18)\n",
            "(5, 'Tejashree', 19)\n",
            "(6, 'Pranita', 19)\n"
          ]
        }
      ]
    },
    {
      "cell_type": "markdown",
      "source": [
        "\n",
        "###**Closing the database connection**"
      ],
      "metadata": {
        "id": "Aq7i-bJzpS34"
      }
    },
    {
      "cell_type": "code",
      "source": [
        "connection.close ()"
      ],
      "metadata": {
        "id": "9k1jYUbdpenq"
      },
      "execution_count": null,
      "outputs": []
    }
  ]
}