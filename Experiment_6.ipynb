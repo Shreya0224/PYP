{
  "nbformat": 4,
  "nbformat_minor": 0,
  "metadata": {
    "colab": {
      "provenance": []
    },
    "kernelspec": {
      "name": "python3",
      "display_name": "Python 3"
    },
    "language_info": {
      "name": "python"
    }
  },
  "cells": [
    {
      "cell_type": "markdown",
      "source": [
        "# **Shreya Yadav**\n",
        "# **Roll no 77**\n",
        "# **Experiment NO :-06**"
      ],
      "metadata": {
        "id": "BX1KQbebgRPY"
      }
    },
    {
      "cell_type": "markdown",
      "source": [
        "## Importing"
      ],
      "metadata": {
        "id": "8zFn-0bSgMkp"
      }
    },
    {
      "cell_type": "code",
      "execution_count": 2,
      "metadata": {
        "id": "tH7VTwKbftfR"
      },
      "outputs": [],
      "source": [
        "import sqlite3"
      ]
    },
    {
      "cell_type": "markdown",
      "source": [
        "## Connecting to Database"
      ],
      "metadata": {
        "id": "w3QujNGYmT9Q"
      }
    },
    {
      "cell_type": "code",
      "source": [
        "connection = sqlite3.connect ('./genericDatabase.db')\n",
        "cursor = connection.cursor ()"
      ],
      "metadata": {
        "id": "F5Ha6M2dhKrJ"
      },
      "execution_count": 3,
      "outputs": []
    },
    {
      "cell_type": "markdown",
      "source": [
        "## Create Table"
      ],
      "metadata": {
        "id": "lKOGRc3JmdwH"
      }
    },
    {
      "cell_type": "code",
      "source": [
        "cursor.execute('''\n",
        "    CREATE TABLE IF NOT EXISTS students (\n",
        "        id INTEGER PRIMARY KEY AUTOINCREMENT,\n",
        "        name TEXT NOT NULL,\n",
        "        age INTEGER NOT NULL\n",
        "    )\n",
        "''')\n",
        "\n",
        "connection.commit()"
      ],
      "metadata": {
        "id": "9Q2MrqVGj8hw"
      },
      "execution_count": 4,
      "outputs": []
    },
    {
      "cell_type": "markdown",
      "source": [
        "# CRUD Operations\n"
      ],
      "metadata": {
        "id": "yaNcQB9NmoQ_"
      }
    },
    {
      "cell_type": "markdown",
      "source": [
        "### Create (Insertion)"
      ],
      "metadata": {
        "id": "L59uvVpjm6N_"
      }
    },
    {
      "cell_type": "code",
      "source": [
        "def create_student(name, age):\n",
        "    cursor.execute('''\n",
        "        INSERT INTO students (name, age)\n",
        "        VALUES (?, ?)\n",
        "    ''', (name, age))\n",
        "    connection.commit()\n",
        "    print(\"Record added successfully!\")\n",
        "\n",
        "create_student(\"Griffith\", 20)\n",
        "create_student(\"Guts\", 22)"
      ],
      "metadata": {
        "colab": {
          "base_uri": "https://localhost:8080/",
          "height": 0
        },
        "id": "M2dXpsWekBEg",
        "outputId": "dba5469b-5854-4891-9dc3-e1c295990b33"
      },
      "execution_count": 5,
      "outputs": [
        {
          "output_type": "stream",
          "name": "stdout",
          "text": [
            "Record added successfully!\n",
            "Record added successfully!\n"
          ]
        }
      ]
    },
    {
      "cell_type": "markdown",
      "source": [
        "### Read (Retrieve)"
      ],
      "metadata": {
        "id": "taUcHLKGnCTX"
      }
    },
    {
      "cell_type": "code",
      "source": [
        "def read_students():\n",
        "    cursor.execute('SELECT * FROM students')\n",
        "    rows = cursor.fetchall()\n",
        "    print(\"Student Records:\")\n",
        "    for row in rows:\n",
        "        print(row)\n",
        "\n",
        "read_students()"
      ],
      "metadata": {
        "colab": {
          "base_uri": "https://localhost:8080/",
          "height": 0
        },
        "id": "Z3Z_DcONkEjI",
        "outputId": "3577a650-2f61-432a-cd6b-11349b9dd001"
      },
      "execution_count": 6,
      "outputs": [
        {
          "output_type": "stream",
          "name": "stdout",
          "text": [
            "Student Records:\n",
            "(1, 'Griffith', 20)\n",
            "(2, 'Guts', 22)\n"
          ]
        }
      ]
    },
    {
      "cell_type": "markdown",
      "source": [
        "### Update"
      ],
      "metadata": {
        "id": "f8Q78Yy3nJCn"
      }
    },
    {
      "cell_type": "code",
      "source": [
        "def update_student_age(student_id, new_age):\n",
        "    cursor.execute('''\n",
        "        UPDATE students\n",
        "        SET age = ?\n",
        "        WHERE id = ?\n",
        "    ''', (new_age, student_id))\n",
        "    connection.commit()\n",
        "    print(\"Student age updated successfully!\")\n",
        "update_student_age(1, 21)\n",
        "read_students()"
      ],
      "metadata": {
        "colab": {
          "base_uri": "https://localhost:8080/",
          "height": 0
        },
        "id": "-rff0fZ0kE1P",
        "outputId": "b3361883-a480-47b3-fbca-3c221d8bae99"
      },
      "execution_count": 9,
      "outputs": [
        {
          "output_type": "stream",
          "name": "stdout",
          "text": [
            "Student age updated successfully!\n",
            "Student Records:\n",
            "(1, 'Griffith', 21)\n",
            "(2, 'Guts', 22)\n"
          ]
        }
      ]
    },
    {
      "cell_type": "markdown",
      "source": [
        "### Delete\n"
      ],
      "metadata": {
        "id": "9nHOnxZHnaZH"
      }
    },
    {
      "cell_type": "code",
      "source": [
        "def delete_student(student_id):\n",
        "    cursor.execute('''\n",
        "        DELETE FROM students\n",
        "        WHERE id = ?\n",
        "    ''', (student_id,))\n",
        "    connection.commit()\n",
        "    print(\"Student deleted successfully!\")\n",
        "delete_student(2)\n",
        "read_students()"
      ],
      "metadata": {
        "colab": {
          "base_uri": "https://localhost:8080/",
          "height": 0
        },
        "id": "BX9I9BDJkE5A",
        "outputId": "3fd0ff67-41f0-40dc-ba8a-d40c0437bb4d"
      },
      "execution_count": 10,
      "outputs": [
        {
          "output_type": "stream",
          "name": "stdout",
          "text": [
            "Student deleted successfully!\n",
            "Student Records:\n",
            "(1, 'Griffith', 21)\n"
          ]
        }
      ]
    },
    {
      "cell_type": "markdown",
      "source": [
        "#Closing the database connection"
      ],
      "metadata": {
        "id": "3mDmD7sYlgpg"
      }
    },
    {
      "cell_type": "code",
      "source": [
        "connection.close ()"
      ],
      "metadata": {
        "id": "NYufARitkFF4"
      },
      "execution_count": 11,
      "outputs": []
    }
  ]
}