{
  "metadata": {
    "kernelspec": {
      "name": "python",
      "display_name": "Python (Pyodide)",
      "language": "python"
    },
    "language_info": {
      "codemirror_mode": {
        "name": "python",
        "version": 3
      },
      "file_extension": ".py",
      "mimetype": "text/x-python",
      "name": "python",
      "nbconvert_exporter": "python",
      "pygments_lexer": "ipython3",
      "version": "3.8"
    }
  },
  "nbformat_minor": 5,
  "nbformat": 4,
  "cells": [
    {
      "id": "6e8b10b6-1905-4df3-a4d6-1e5f43f1226e",
      "cell_type": "markdown",
      "source": "### Shreya Yadav, Experiment No 1",
      "metadata": {}
    },
    {
      "id": "03309bb0-3912-406d-9cb5-6cc2f87c7e81",
      "cell_type": "markdown",
      "source": "### Strings in python",
      "metadata": {}
    },
    {
      "id": "fd952ff9-3825-40fa-bfb1-3e6783a2c1e8",
      "cell_type": "code",
      "source": "a = 'Friends '\nprint (a)\nb = \"At\"\nprint (b)\nc= '''Collage'''\nprint (c)",
      "metadata": {
        "trusted": true
      },
      "outputs": [
        {
          "name": "stdout",
          "output_type": "stream",
          "text": "Friends \nAt\nCollage\n"
        }
      ],
      "execution_count": 7
    },
    {
      "id": "7f0e451c-267f-4024-beae-bd91f29a2265",
      "cell_type": "markdown",
      "source": "### Lists in Python",
      "metadata": {}
    },
    {
      "id": "931429b1-608f-4b00-90a2-b2759a349aad",
      "cell_type": "code",
      "source": "L = [1, \"a\" , \"string\" , 1+2]\nprint (L)\nL.append(6) \nprint (L)\nL.pop()\nprint (L)\nprint (L[1])",
      "metadata": {
        "trusted": true
      },
      "outputs": [
        {
          "name": "stdout",
          "output_type": "stream",
          "text": "[1, 'a', 'string', 3]\n[1, 'a', 'string', 3, 6]\n[1, 'a', 'string', 3]\na\n"
        }
      ],
      "execution_count": 8
    },
    {
      "id": "4c10a64b-75d6-4107-9323-97c49c0bc61a",
      "cell_type": "markdown",
      "source": "### Tuples in Python",
      "metadata": {}
    },
    {
      "id": "01aaa817-bfab-4b70-b8c6-c192f4bcf74b",
      "cell_type": "code",
      "source": "tup = (1, \"a\", \"string\", 1+2)\nprint(tup)\nprint(tup[1])",
      "metadata": {
        "trusted": true
      },
      "outputs": [
        {
          "name": "stdout",
          "output_type": "stream",
          "text": "(1, 'a', 'string', 3)\na\n"
        }
      ],
      "execution_count": 9
    },
    {
      "id": "7b40703e-d521-4693-9ad4-7e2fb22f99e3",
      "cell_type": "markdown",
      "source": "### Dictionaries in Python",
      "metadata": {}
    },
    {
      "id": "ae0b3855-3b96-407e-81b7-b4a46210472b",
      "cell_type": "code",
      "source": "d = {1: 'Shreya', 2: 'Sudan', 3: 'Tejashree',4:'Pranita'}\nprint(d)",
      "metadata": {
        "trusted": true
      },
      "outputs": [
        {
          "name": "stdout",
          "output_type": "stream",
          "text": "{1: 'Shreya', 2: 'Sudan', 3: 'Tejashree', 4: 'Pranita'}\n"
        }
      ],
      "execution_count": 10
    },
    {
      "id": "09c05546-5f8d-4ff9-8bc1-ba1cb13a40fa",
      "cell_type": "markdown",
      "source": "### Create a Dictionary\n",
      "metadata": {}
    },
    {
      "id": "3b647ed7-a5a6-4342-ba0f-2f9c5460e8cf",
      "cell_type": "code",
      "source": "\nd1 = {1: 'Alice', 2: 'In', 3: 'Boderland'}\nprint(d1)\n\nd2 = dict(a = \"House\", b = \"of\", c = \"Cards\")\nprint(d2)",
      "metadata": {
        "trusted": true
      },
      "outputs": [
        {
          "name": "stdout",
          "output_type": "stream",
          "text": "{1: 'Alice', 2: 'In', 3: 'Boderland'}\n{'a': 'House', 'b': 'of', 'c': 'Cards'}\n"
        }
      ],
      "execution_count": 11
    },
    {
      "id": "ca4b56cf-0fac-40dc-9ed3-c14dab5bbe9f",
      "cell_type": "markdown",
      "source": "### Accessing Dictionary Items",
      "metadata": {}
    },
    {
      "id": "76e478d9-2f77-421a-bb1e-b2e513978bc2",
      "cell_type": "code",
      "source": "d = { \"name\": \"Rose\", 1: \"Python\", (1, 2): [1,2,4] }\nprint(d[\"name\"])\n\nprint(d.get(\"name\"))",
      "metadata": {
        "trusted": true
      },
      "outputs": [
        {
          "name": "stdout",
          "output_type": "stream",
          "text": "Rose\nRose\n"
        }
      ],
      "execution_count": 12
    },
    {
      "id": "01990c86-37da-4237-a982-bf142bc376c2",
      "cell_type": "markdown",
      "source": "### Adding and Updating Dictionary Items",
      "metadata": {}
    },
    {
      "id": "38a0eeac-2248-480c-8fff-12ac59c60402",
      "cell_type": "code",
      "source": "d = {1: 'Game', 2: 'of', 3: 'Thrones'}\n\nd[\"age\"] = 22\n\nd[1] = \"saint\"\n\nprint(d)",
      "metadata": {
        "trusted": true
      },
      "outputs": [
        {
          "name": "stdout",
          "output_type": "stream",
          "text": "{1: 'saint', 2: 'of', 3: 'Thrones', 'age': 22}\n"
        }
      ],
      "execution_count": 13
    },
    {
      "id": "73c8f12b-0df2-452a-b3ab-76d55dbe815a",
      "cell_type": "markdown",
      "source": "### Deleting or Removing Dictionary Items",
      "metadata": {}
    },
    {
      "id": "47d17181-c954-4f4d-ab83-b126ac616b9f",
      "cell_type": "code",
      "source": "d = {1:'Alice',2:'In',3:'Boderland'}\nd.pop(1)\nprint(d)",
      "metadata": {
        "trusted": true
      },
      "outputs": [
        {
          "name": "stdout",
          "output_type": "stream",
          "text": "{2: 'In', 3: 'Boderland'}\n"
        }
      ],
      "execution_count": 17
    },
    {
      "id": "f7d6d26a-acac-487a-bb68-ed9d3eacd60b",
      "cell_type": "code",
      "source": "d = {1:'Alice',2:'In',3:'Boderland'}\nd.popitem()\nprint(d)",
      "metadata": {
        "trusted": true
      },
      "outputs": [
        {
          "name": "stdout",
          "output_type": "stream",
          "text": "{1: 'Alice', 2: 'In'}\n"
        }
      ],
      "execution_count": 19
    },
    {
      "id": "56b7a936-a845-4ec3-a1a2-5fbf220e70e1",
      "cell_type": "code",
      "source": "d = {1:'Alice',2:'In',3:'Boderland'}\ndel d[1]\nprint(d)",
      "metadata": {
        "trusted": true
      },
      "outputs": [
        {
          "name": "stdout",
          "output_type": "stream",
          "text": "{2: 'In', 3: 'Boderland'}\n"
        }
      ],
      "execution_count": 21
    }
  ]
}