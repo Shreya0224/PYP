{
  "metadata": {
    "kernelspec": {
      "name": "python",
      "display_name": "Python (Pyodide)",
      "language": "python"
    },
    "language_info": {
      "codemirror_mode": {
        "name": "python",
        "version": 3
      },
      "file_extension": ".py",
      "mimetype": "text/x-python",
      "name": "python",
      "nbconvert_exporter": "python",
      "pygments_lexer": "ipython3",
      "version": "3.8"
    }
  },
  "nbformat_minor": 5,
  "nbformat": 4,
  "cells": [
    {
      "id": "e17e4e03-5bf3-4ed8-bff7-3b76e3e06200",
      "cell_type": "code",
      "source": "import os\n\nfiles = [f for f in os.listdir('.') if os.path.isfile(f)]\n\nprint(\"Files in the current directory:\")\nfor file in files:\n    print(file)\n",
      "metadata": {
        "trusted": true
      },
      "outputs": [
        {
          "name": "stdout",
          "output_type": "stream",
          "text": "Files in the current directory:\nUntitled.ipynb\nUntitled1.ipynb\nLorenz.ipynb\nIntro.ipynb\nsqlite.ipynb\n"
        }
      ],
      "execution_count": 1
    },
    {
      "id": "b61da286-52cb-4b19-bf89-004639d18da8",
      "cell_type": "code",
      "source": "from pathlib import Path\n\ncurrent_directory = Path('.')\n\nfiles = [f for f in current_directory.iterdir() if f.is_file()]\n\nprint(\"Files in the current directory:\")\nfor file in files:\n    print(file.name)\n",
      "metadata": {
        "trusted": true
      },
      "outputs": [
        {
          "name": "stdout",
          "output_type": "stream",
          "text": "Files in the current directory:\nExperiment No 04.ipynb\nUntitled.ipynb\nLorenz.ipynb\nIntro.ipynb\nsqlite.ipynb\n"
        }
      ],
      "execution_count": 2
    },
    {
      "id": "2ed6eef0-c0ac-4c9e-b3d1-c09786f0af5f",
      "cell_type": "code",
      "source": "",
      "metadata": {
        "trusted": true
      },
      "outputs": [],
      "execution_count": null
    }
  ]
}