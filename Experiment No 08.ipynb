{
  "metadata": {
    "kernelspec": {
      "name": "python",
      "display_name": "Python (Pyodide)",
      "language": "python"
    },
    "language_info": {
      "codemirror_mode": {
        "name": "python",
        "version": 3
      },
      "file_extension": ".py",
      "mimetype": "text/x-python",
      "name": "python",
      "nbconvert_exporter": "python",
      "pygments_lexer": "ipython3",
      "version": "3.8"
    }
  },
  "nbformat_minor": 4,
  "nbformat": 4,
  "cells": [
    {
      "cell_type": "markdown",
      "source": "## Shreya Yadav\n## Roll No:-77\n## Experiment No:-08",
      "metadata": {}
    },
    {
      "cell_type": "code",
      "source": "import threading\nimport time\n\ndef print_numbers():\n    for i in range(1, 6):\n        print(f\"Thread 1 - Number: {i}\")\n        time.sleep(1)\n\ndef print_letters():\n    for letter in 'ABCDE':\n        print(f\"Thread 2 - Letter: {letter}\")\n        time.sleep(1)\n\ndef print_squares():\n    for i in range(1, 6):\n        print(f\"Thread 3 - Square of {i}: {i ** 2}\")\n        time.sleep(1)\n\n# Creating threads\nthread1 = threading.Thread(target=print_numbers)\nthread2 = threading.Thread(target=print_letters)\nthread3 = threading.Thread(target=print_squares)\n\n# Starting threads\nthread1.start()\nthread2.start()\nthread3.start()\n\n# Ensuring all threads complete\nthread1.join()\nthread2.join()\nthread3.join()\n\nprint(\"All threads have finished executing.\")",
      "metadata": {},
      "outputs": [
        {
          "name": "stdout",
          "output_type": "stream",
          "text": "Thread 1 - Number: 1\n,Thread 2 - Letter: A\n,Thread 3 - Square of 1: 1\n,Thread 1 - Number: 2Thread 3 - Square of 2: 4\n,Thread 2 - Letter: B\n,\n,Thread 3 - Square of 3: 9Thread 1 - Number: 3\n,Thread 2 - Letter: C\n,\n,Thread 3 - Square of 4: 16Thread 2 - Letter: D\n,\n,Thread 1 - Number: 4\n,Thread 2 - Letter: EThread 1 - Number: 5\n,Thread 3 - Square of 5: 25\n,\n,All threads have finished executing.\n"
        }
      ],
      "execution_count": 1
    }
  ]
}