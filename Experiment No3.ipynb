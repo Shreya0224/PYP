{
  "metadata": {
    "kernelspec": {
      "name": "python",
      "display_name": "Python (Pyodide)",
      "language": "python"
    },
    "language_info": {
      "codemirror_mode": {
        "name": "python",
        "version": 3
      },
      "file_extension": ".py",
      "mimetype": "text/x-python",
      "name": "python",
      "nbconvert_exporter": "python",
      "pygments_lexer": "ipython3",
      "version": "3.8"
    }
  },
  "nbformat_minor": 5,
  "nbformat": 4,
  "cells": [
    {
      "id": "1e26578e-da8a-4aaa-a733-845d4805a2cb",
      "cell_type": "code",
      "source": "if __name__ == '__main__':\n    with open ('./file.txt', 'r') as file:\n        lines = file.readlines ()\n        numberOfLines = len (lines)\n        numberOfWords = sum (len (line.split()) for line in lines)\n        \n        # Write numberOfCharacters over here.\n        numberOfCharacters = ''\n        \n    print(f\"Lines: {numberOfLines}\")\n    print(f\"Words: {numberOfWords}\")\n    print(f\"Characters: {numberOfCharacters}\")",
      "metadata": {
        "trusted": true
      },
      "outputs": [
        {
          "name": "stdout",
          "output_type": "stream",
          "text": "Lines: 4\nWords: 21\nCharacters: \n"
        }
      ],
      "execution_count": 2
    },
    {
      "id": "031d4fc8-8151-49ab-877d-eceb0388d2ed",
      "cell_type": "code",
      "source": "",
      "metadata": {
        "trusted": true
      },
      "outputs": [],
      "execution_count": null
    }
  ]
}