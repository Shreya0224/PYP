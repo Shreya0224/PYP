{
  "metadata": {
    "kernelspec": {
      "name": "python",
      "display_name": "Python (Pyodide)",
      "language": "python"
    },
    "language_info": {
      "codemirror_mode": {
        "name": "python",
        "version": 3
      },
      "file_extension": ".py",
      "mimetype": "text/x-python",
      "name": "python",
      "nbconvert_exporter": "python",
      "pygments_lexer": "ipython3",
      "version": "3.8"
    }
  },
  "nbformat_minor": 5,
  "nbformat": 4,
  "cells": [
    {
      "id": "2826e596-71e4-44e3-a547-3a296e43a8ca",
      "cell_type": "code",
      "source": "class Employee:\n    def __init__ (\n            self,\n            designation : str = 'Developer',\n            frontend : bool = False,\n            backend : bool = True\n    ):\n        self.designation = designation\n        self.frontend = frontend\n        self.backend = backend\n\n    def __repr__ (self):\n        return '{}'.format (self.designation, self.frontend, self.backend)\n    \n    def verifier (self):\n        if self.frontend and self.backend:\n            return \"Full-stack developer\"\n        elif self.frontend:\n            return \"Frontend Developer\"\n        elif self.backend:\n            return \"Backend Developer\"\n        else:\n            return \"Not a Developer\"\nif __name__ == '__main__':\n    firstEmployee = Employee()\n    print(firstEmployee.verifier())",
      "metadata": {
        "trusted": true
      },
      "outputs": [
        {
          "name": "stdout",
          "output_type": "stream",
          "text": "Backend Developer\n"
        }
      ],
      "execution_count": 3
    },
    {
      "id": "2582d043-5a21-48fe-a712-c26f48f14245",
      "cell_type": "code",
      "source": "",
      "metadata": {
        "trusted": true
      },
      "outputs": [],
      "execution_count": null
    }
  ]
}